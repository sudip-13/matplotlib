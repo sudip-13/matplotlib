{
 "cells": [
  {
   "cell_type": "code",
   "execution_count": 1,
   "id": "e044599e",
   "metadata": {},
   "outputs": [
    {
     "data": {
      "text/plain": [
       "(array([[0, 0],\n",
       "        [0, 1],\n",
       "        [1, 0],\n",
       "        [1, 1]]),\n",
       " array([0, 1, 1, 1]))"
      ]
     },
     "execution_count": 1,
     "metadata": {},
     "output_type": "execute_result"
    }
   ],
   "source": [
    "import numpy as np\n",
    "x=np.array([[0,0],[0,1],[1,0],[1,1]])\n",
    "y=np.array([0,1,1,1])\n",
    "x,y"
   ]
  },
  {
   "cell_type": "code",
   "execution_count": 2,
   "id": "8659f80a",
   "metadata": {},
   "outputs": [],
   "source": [
    "w=np.array([1,1])"
   ]
  },
  {
   "cell_type": "code",
   "execution_count": 3,
   "id": "7d1420b5",
   "metadata": {},
   "outputs": [
    {
     "data": {
      "text/plain": [
       "array([1, 1])"
      ]
     },
     "execution_count": 3,
     "metadata": {},
     "output_type": "execute_result"
    }
   ],
   "source": [
    "w"
   ]
  },
  {
   "cell_type": "code",
   "execution_count": 4,
   "id": "5eec96e2",
   "metadata": {},
   "outputs": [],
   "source": [
    "b=-0.5"
   ]
  },
  {
   "cell_type": "code",
   "execution_count": 5,
   "id": "8207f260",
   "metadata": {},
   "outputs": [],
   "source": [
    "def activation(z):\n",
    "    if z>=0:\n",
    "        return 1\n",
    "    else:\n",
    "        return 0"
   ]
  },
  {
   "cell_type": "code",
   "execution_count": 6,
   "id": "3ef1cd74",
   "metadata": {},
   "outputs": [],
   "source": [
    "pred=[]\n",
    "for a in x:\n",
    "    y_hat=np.dot(a,w)+b\n",
    "    pred.append(activation(y_hat))"
   ]
  },
  {
   "cell_type": "code",
   "execution_count": 7,
   "id": "4d8776be",
   "metadata": {},
   "outputs": [
    {
     "data": {
      "text/plain": [
       "[0, 1, 1, 1]"
      ]
     },
     "execution_count": 7,
     "metadata": {},
     "output_type": "execute_result"
    }
   ],
   "source": [
    "pred"
   ]
  },
  {
   "cell_type": "markdown",
   "id": "0a963e28",
   "metadata": {},
   "source": [
    "## perceptron Learning"
   ]
  },
  {
   "cell_type": "code",
   "execution_count": 8,
   "id": "7af9d9c8",
   "metadata": {},
   "outputs": [],
   "source": [
    "import math"
   ]
  },
  {
   "cell_type": "code",
   "execution_count": 9,
   "id": "970f952b",
   "metadata": {},
   "outputs": [],
   "source": [
    "epochs=100\n",
    "alpha=0.2"
   ]
  },
  {
   "cell_type": "code",
   "execution_count": 10,
   "id": "c6bdce0e",
   "metadata": {},
   "outputs": [
    {
     "name": "stdout",
     "output_type": "stream",
     "text": [
      "initial weights:\n",
      "wo= 0.17149658503091192, w1= 0.9853124988497434, w2= 0.46649603512028437\n"
     ]
    }
   ],
   "source": [
    "w0=np.random.random()\n",
    "w1=np.random.random()\n",
    "w2=np.random.random()\n",
    "print(\"initial weights:\")\n",
    "print(f\"wo= {w0}, w1= {w1}, w2= {w2}\")"
   ]
  },
  {
   "cell_type": "code",
   "execution_count": 11,
   "id": "25d63a62",
   "metadata": {},
   "outputs": [],
   "source": [
    "del_wo=1\n",
    "del_w1=1\n",
    "del_w2=1"
   ]
  },
  {
   "cell_type": "code",
   "execution_count": 12,
   "id": "41c4bef7",
   "metadata": {},
   "outputs": [],
   "source": [
    "train_data_temp=[[0,0,0],[0,0,1],[0,1,0],[0,1,1],[1,0,0],[1,0,1],[1,1,0],[1,1,1]]\n",
    "train_data=np.asarray(train_data_temp)\n",
    "op=np.array([0,1,1,1,1,1,1,1])"
   ]
  },
  {
   "cell_type": "code",
   "execution_count": 13,
   "id": "78078ed0",
   "metadata": {},
   "outputs": [
    {
     "data": {
      "text/plain": [
       "array([[0, 0, 0],\n",
       "       [0, 0, 1],\n",
       "       [0, 1, 0],\n",
       "       [0, 1, 1],\n",
       "       [1, 0, 0],\n",
       "       [1, 0, 1],\n",
       "       [1, 1, 0],\n",
       "       [1, 1, 1]])"
      ]
     },
     "execution_count": 13,
     "metadata": {},
     "output_type": "execute_result"
    }
   ],
   "source": [
    "train_data"
   ]
  },
  {
   "cell_type": "code",
   "execution_count": 14,
   "id": "ea752378",
   "metadata": {},
   "outputs": [
    {
     "data": {
      "text/plain": [
       "array([0, 1, 1, 1, 1, 1, 1, 1])"
      ]
     },
     "execution_count": 14,
     "metadata": {},
     "output_type": "execute_result"
    }
   ],
   "source": [
    "op"
   ]
  },
  {
   "cell_type": "code",
   "execution_count": 15,
   "id": "293a897d",
   "metadata": {},
   "outputs": [
    {
     "data": {
      "text/plain": [
       "(8,)"
      ]
     },
     "execution_count": 15,
     "metadata": {},
     "output_type": "execute_result"
    }
   ],
   "source": [
    "op.shape"
   ]
  },
  {
   "cell_type": "code",
   "execution_count": 16,
   "id": "011e7df5",
   "metadata": {},
   "outputs": [
    {
     "name": "stdout",
     "output_type": "stream",
     "text": [
      "\n",
      "Final weights = \n",
      "w0 =0.17149658503091192, w1=0.9853124988497434, w2=0.46649603512028437\n"
     ]
    }
   ],
   "source": [
    "bias=0\n",
    "for i in range(epochs):\n",
    "    j=0\n",
    "    for x in train_data:\n",
    "        y_hat=w0*x[0]+w1*x[1]+w2*x[2]+bias\n",
    "        if(y_hat>=0):\n",
    "            act=1\n",
    "        else:\n",
    "            act=0\n",
    "        err=op[j]-act\n",
    "        del_wo=alpha*x[0]*err\n",
    "        del_w1=alpha*x[1]*err\n",
    "        del_w2=alpha*x[2]*err\n",
    "        w0=w0+del_wo\n",
    "        w1=w1+del_w1\n",
    "        w2=w2+del_w2\n",
    "        j+=1\n",
    "#         print(\"epoch \",i+1,\"error= \",err)\n",
    "#         print(del_wo,del_w1,del_w2)\n",
    "print(\"\\nFinal weights = \")\n",
    "print(f\"w0 ={w0}, w1={w1}, w2={w2}\")\n",
    "        "
   ]
  },
  {
   "cell_type": "markdown",
   "id": "0d0e3b7b",
   "metadata": {},
   "source": [
    "## Types of Classification"
   ]
  },
  {
   "cell_type": "markdown",
   "id": "1b276b2b",
   "metadata": {},
   "source": [
    "## 1.Binary Classification\n",
    "requires two classes, one in normal state and other in aberrant state\n",
    "## 2.Multiclass Classification\n",
    "Data points are grouped into several well known classes\n",
    "## 3.MultiLabeled Classification\n",
    "Features more than two class labels\n",
    "## 4. Imbalanced Classification\n",
    "Each class has different distribution\n"
   ]
  },
  {
   "cell_type": "markdown",
   "id": "4fb87b6a",
   "metadata": {},
   "source": [
    "## Learner Type Terminology"
   ]
  },
  {
   "cell_type": "markdown",
   "id": "162d5e0b",
   "metadata": {},
   "source": [
    "## Lazy Learner\n",
    "lazy learner delays the generalization of traning data until a query is made tomthe system\n",
    "Examples: KNN\n",
    "## Eager Learner\n",
    "Before obtaining a test dataset,eager learners build a classification model using a traning dataset \n",
    "Examples:ANN,Naive Bayes"
   ]
  },
  {
   "cell_type": "markdown",
   "id": "22b4a88f",
   "metadata": {},
   "source": [
    "## sklearn classification Algorithms\n",
    "## 01.Logistic Regression\n",
    "Logistic regression algorithm is a supervised learning classification technique that forecasts the likelihood of a target variable\n",
    "## 02.KNN algorithm \n",
    "the knn algorithm assumes that similar thing exist in close proximity\n",
    "## 03.Decision Tree Algorithm\n",
    "The goal of using a Decision Tree is to create a training model that cancan be used to predict the class or value of the target variable by learning simple decision rules inferred from prior data.\n",
    "## 04.Random Forest\n",
    "Random Forest is a classifier that contains a number of decision trees on various subsets of the given dataset and takes the average to improve the predictive accuracy of the dataset\n",
    "## 05.Support Vector Machine \n",
    "The SVM algorithm creates the best line or decision boundary that can segregate n-dimmensional space into class\n",
    "## 06.Naive Bayes\n",
    "Naive Bayes classifier assumes that effect of a particular feeature in a class is independent of other features"
   ]
  },
  {
   "cell_type": "code",
   "execution_count": null,
   "id": "dbc62adb",
   "metadata": {},
   "outputs": [],
   "source": []
  }
 ],
 "metadata": {
  "kernelspec": {
   "display_name": "Python 3 (ipykernel)",
   "language": "python",
   "name": "python3"
  },
  "language_info": {
   "codemirror_mode": {
    "name": "ipython",
    "version": 3
   },
   "file_extension": ".py",
   "mimetype": "text/x-python",
   "name": "python",
   "nbconvert_exporter": "python",
   "pygments_lexer": "ipython3",
   "version": "3.11.4"
  }
 },
 "nbformat": 4,
 "nbformat_minor": 5
}
